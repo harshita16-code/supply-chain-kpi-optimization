{
 "cells": [
  {
   "cell_type": "code",
   "execution_count": null,
   "metadata": {},
   "outputs": [],
   "source": [
    "import pandas as pd\n",
    "import matplotlib.pyplot as plt\n",
    "from statsmodels.tsa.holtwinters import ExponentialSmoothing"
   ]
  },
  {
   "cell_type": "code",
   "execution_count": null,
   "metadata": {},
   "outputs": [],
   "source": [
    "# Load top products for demand forecasting\n",
    "df = pd.read_csv(\"../data/processed/top_products.csv\")\n",
    "df"
   ]
  },
  {
   "cell_type": "code",
   "execution_count": null,
   "metadata": {},
   "outputs": [],
   "source": [
    "# Create fake monthly demand series for a product\n",
    "date_range = pd.date_range(start=\"2023-01-01\", periods=24, freq=\"M\")\n",
    "demand = [200 + (i % 12) * 10 + (i * 2) for i in range(24)]\n",
    "\n",
    "demand_df = pd.DataFrame({\"Month\": date_range, \"Demand\": demand})\n",
    "demand_df.set_index(\"Month\", inplace=True)\n",
    "\n",
    "demand_df.plot(figsize=(8,4), title=\"Historical Demand\", marker='o')\n",
    "plt.show()"
   ]
  },
  {
   "cell_type": "code",
   "execution_count": null,
   "metadata": {},
   "outputs": [],
   "source": [
    "# Holt-Winters model\n",
    "model = ExponentialSmoothing(demand_df[\"Demand\"], trend=\"add\", seasonal=\"add\", seasonal_periods=12)\n",
    "fit = model.fit()\n",
    "\n",
    "forecast = fit.forecast(6)\n",
    "\n",
    "plt.figure(figsize=(8,4))\n",
    "plt.plot(demand_df.index, demand_df[\"Demand\"], label=\"Historical\")\n",
    "plt.plot(forecast.index, forecast, label=\"Forecast\", marker='o')\n",
    "plt.legend()\n",
    "plt.title(\"Demand Forecast (Next 6 Months)\")\n",
    "plt.show()"
   ]
  },
  {
   "cell_type": "code",
   "execution_count": null,
   "metadata": {},
   "outputs": [],
   "source": [
    "forecast_df = forecast.reset_index()\n",
    "forecast_df.columns = [\"Month\", \"Forecasted_Demand\"]\n",
    "forecast_df.to_csv(\"../data/processed/demand_forecast.csv\", index=False)\n",
    "\n",
    "forecast_df"
   ]
  }
 ],
 "metadata": {
  "kernelspec": {
   "display_name": "Python 3",
   "language": "python",
   "name": "python3"
  },
  "language_info": {
   "name": "python",
   "version": "3.10"
  }
 },
 "nbformat": 4,
 "nbformat_minor": 5
}
