Cell 1 – Import libraries
import pandas as pd
import matplotlib.pyplot as plt
from statsmodels.tsa.holtwinters import ExponentialSmoothing

Cell 2 – Load processed KPI data
# Load top products for demand forecasting
df = pd.read_csv("../data/processed/top_products.csv")
df

Cell 3 – Mock monthly demand data
# Create fake monthly demand series for a product
date_range = pd.date_range(start="2023-01-01", periods=24, freq="M")
demand = [200 + (i % 12) * 10 + (i * 2) for i in range(24)]  # increasing seasonal trend

demand_df = pd.DataFrame({"Month": date_range, "Demand": demand})
demand_df.set_index("Month", inplace=True)

demand_df.plot(figsize=(8,4), title="Historical Demand", marker='o')
plt.show()

Cell 4 – Fit forecasting model
# Holt-Winters model
model = ExponentialSmoothing(demand_df["Demand"], trend="add", seasonal="add", seasonal_periods=12)
fit = model.fit()

forecast = fit.forecast(6)

plt.figure(figsize=(8,4))
plt.plot(demand_df.index, demand_df["Demand"], label="Historical")
plt.plot(forecast.index, forecast, label="Forecast", marker='o')
plt.legend()
plt.title("Demand Forecast (Next 6 Months)")
plt.show()

Cell 5 – Save forecast results
forecast_df = forecast.reset_index()
forecast_df.columns = ["Month", "Forecasted_Demand"]
forecast_df.to_csv("../data/processed/demand_forecast.csv", index=False)

forecast_df
